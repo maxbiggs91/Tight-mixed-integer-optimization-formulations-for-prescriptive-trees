{
 "cells": [
  {
   "cell_type": "code",
   "execution_count": null,
   "id": "febfbea4",
   "metadata": {},
   "outputs": [],
   "source": [
    "import numpy as np\n",
    "import pandas as pd\n",
    "from sklearn.tree import DecisionTreeRegressor,plot_tree\n",
    "from sklearn.ensemble import RandomForestClassifier, RandomForestRegressor\n",
    "import timeit\n",
    "\n",
    "%run IP_functions.ipynb "
   ]
  },
  {
   "cell_type": "code",
   "execution_count": null,
   "id": "f45c054e",
   "metadata": {},
   "outputs": [],
   "source": [
    "# Synthetic data simulations"
   ]
  },
  {
   "cell_type": "code",
   "execution_count": null,
   "id": "693372ac",
   "metadata": {
    "scrolled": true
   },
   "outputs": [],
   "source": [
    "# Run time simulations\n",
    "deviation_bound=False\n",
    "make_continuous=False\n",
    "make_relax=False\n",
    "dataset= 'abs_synth_noisy'\n",
    "eps=0.0001\n",
    "n_data = 5000\n",
    "n_rep=10\n",
    "n_feature_set=[1,2,3,4,5]\n",
    "trees_to_test=[1,2,4,8,16,32]\n",
    "\n",
    "%run run_time_simulations.ipynb "
   ]
  },
  {
   "cell_type": "code",
   "execution_count": null,
   "id": "feaaeb3c",
   "metadata": {
    "scrolled": false
   },
   "outputs": [],
   "source": [
    "# Tightness simulations\n",
    "deviation_bound=False\n",
    "make_continuous=False\n",
    "make_relax=True\n",
    "dataset= 'abs_synth_noisy'\n",
    "eps=0.0001\n",
    "n_data = 5000\n",
    "n_rep=10\n",
    "n_feature_set=[1,2,4,8,12]\n",
    "trees_to_test=[2,4,6,8,10]\n",
    "\n",
    "%run run_tightness_simulations.ipynb "
   ]
  },
  {
   "cell_type": "code",
   "execution_count": null,
   "id": "04c94217",
   "metadata": {},
   "outputs": [],
   "source": [
    "# Concrete simulations"
   ]
  },
  {
   "cell_type": "code",
   "execution_count": null,
   "id": "c1b479da",
   "metadata": {},
   "outputs": [],
   "source": [
    "# Run time simulations\n",
    "deviation_bound=False\n",
    "make_continuous=False\n",
    "make_relax=False\n",
    "dataset= 'concrete'\n",
    "eps=0.0001\n",
    "n_data = 5000\n",
    "n_rep=10\n",
    "n_feature_set=[1,3,5,7]\n",
    "trees_to_test=[10,20,40,80,160]\n",
    "\n",
    "%run run_time_simulations.ipynb "
   ]
  },
  {
   "cell_type": "code",
   "execution_count": null,
   "id": "540a7974",
   "metadata": {},
   "outputs": [],
   "source": [
    "# Tightness simulations\n",
    "deviation_bound=False\n",
    "make_continuous=False\n",
    "make_relax=True\n",
    "dataset= 'concrete'\n",
    "eps=0.0001\n",
    "n_data = 5000\n",
    "n_rep=10\n",
    "n_feature_set=[3]\n",
    "trees_to_test=[20]\n",
    "n_feature_set=[1,3,5,7,9]\n",
    "trees_to_test=[10,20,40,80]\n",
    "\n",
    "%run run_tightness_simulations.ipynb "
   ]
  },
  {
   "cell_type": "code",
   "execution_count": null,
   "id": "1a5f7406",
   "metadata": {},
   "outputs": [],
   "source": [
    "# Wine simulations"
   ]
  },
  {
   "cell_type": "code",
   "execution_count": null,
   "id": "6cc205ce",
   "metadata": {},
   "outputs": [],
   "source": [
    "# Run time simulations\n",
    "deviation_bound=False\n",
    "make_continuous=False\n",
    "make_relax=False\n",
    "dataset= 'wine'\n",
    "eps=0.0001\n",
    "n_data = 5000\n",
    "n_rep=10\n",
    "n_feature_set=[1,5,10]\n",
    "trees_to_test=[10,20,40,80,160]\n",
    "\n",
    "%run run_time_simulations.ipynb "
   ]
  },
  {
   "cell_type": "code",
   "execution_count": null,
   "id": "e9014df5",
   "metadata": {
    "scrolled": true
   },
   "outputs": [],
   "source": [
    "# Tightness simulations\n",
    "deviation_bound=False\n",
    "make_continuous=False\n",
    "make_relax=True\n",
    "dataset= 'wine'\n",
    "eps=0.0001\n",
    "n_data = 5000\n",
    "n_rep=10\n",
    "n_feature_set=[1,2,5,10]\n",
    "trees_to_test=[20,40,80]\n",
    "\n",
    "%run run_tightness_simulations.ipynb "
   ]
  }
 ],
 "metadata": {
  "kernelspec": {
   "display_name": "Python 3 (ipykernel)",
   "language": "python",
   "name": "python3"
  },
  "language_info": {
   "codemirror_mode": {
    "name": "ipython",
    "version": 3
   },
   "file_extension": ".py",
   "mimetype": "text/x-python",
   "name": "python",
   "nbconvert_exporter": "python",
   "pygments_lexer": "ipython3",
   "version": "3.11.0"
  }
 },
 "nbformat": 4,
 "nbformat_minor": 5
}
